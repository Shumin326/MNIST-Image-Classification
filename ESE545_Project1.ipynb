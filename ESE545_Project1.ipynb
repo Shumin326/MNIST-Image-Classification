{
  "nbformat": 4,
  "nbformat_minor": 0,
  "metadata": {
    "colab": {
      "name": "ESE545 Project1.ipynb",
      "provenance": [],
      "collapsed_sections": [],
      "machine_shape": "hm",
      "include_colab_link": true
    },
    "kernelspec": {
      "name": "python3",
      "display_name": "Python 3"
    }
  },
  "cells": [
    {
      "cell_type": "markdown",
      "metadata": {
        "id": "view-in-github",
        "colab_type": "text"
      },
      "source": [
        "<a href=\"https://colab.research.google.com/github/Shumin326/Wonder/blob/master/ESE545_Project1.ipynb\" target=\"_parent\"><img src=\"https://colab.research.google.com/assets/colab-badge.svg\" alt=\"Open In Colab\"/></a>"
      ]
    },
    {
      "cell_type": "markdown",
      "metadata": {
        "id": "6wiC1_rWk6hs",
        "colab_type": "text"
      },
      "source": [
        "#problem:\n",
        "- how to choose k from plots? \n",
        "- is current plots correct? if so why is the min dis bigger than 0.2?\n",
        "- how to choose signature matrix size: m? now R=1,800,000\n",
        "- how to choose the R of permutation pi: (a*r+b) mod R"
      ]
    },
    {
      "cell_type": "code",
      "metadata": {
        "id": "TDAQbUAjBUss",
        "colab_type": "code",
        "colab": {}
      },
      "source": [
        "import pandas as pd\n",
        "import numpy as np\n",
        "import matplotlib.pyplot as plt\n",
        "from numpy import vectorize\n",
        "# import json\n",
        "import string\n",
        "from string import punctuation\n",
        "from string import ascii_lowercase\n",
        "import math\n",
        "import timeit\n",
        "from scipy import sparse\n",
        "from scipy.sparse import csr_matrix\n",
        "from scipy.sparse import csc_matrix\n",
        "import matplotlib.pyplot as plt\n",
        "import bisect\n",
        "\n",
        "# np.random.seed(32113)"
      ],
      "execution_count": 0,
      "outputs": []
    },
    {
      "cell_type": "code",
      "metadata": {
        "id": "_iZBu5FJ2mV0",
        "colab_type": "code",
        "outputId": "d1fee4ea-7828-424b-d9d3-40a5eb11e37b",
        "colab": {
          "base_uri": "https://localhost:8080/",
          "height": 122
        }
      },
      "source": [
        "from google.colab import drive\n",
        "drive.mount('/content/gdrive/')"
      ],
      "execution_count": 3,
      "outputs": [
        {
          "output_type": "stream",
          "text": [
            "Go to this URL in a browser: https://accounts.google.com/o/oauth2/auth?client_id=947318989803-6bn6qk8qdgf4n4g3pfee6491hc0brc4i.apps.googleusercontent.com&redirect_uri=urn%3aietf%3awg%3aoauth%3a2.0%3aoob&response_type=code&scope=email%20https%3a%2f%2fwww.googleapis.com%2fauth%2fdocs.test%20https%3a%2f%2fwww.googleapis.com%2fauth%2fdrive%20https%3a%2f%2fwww.googleapis.com%2fauth%2fdrive.photos.readonly%20https%3a%2f%2fwww.googleapis.com%2fauth%2fpeopleapi.readonly\n",
            "\n",
            "Enter your authorization code:\n",
            "··········\n",
            "Mounted at /content/gdrive/\n"
          ],
          "name": "stdout"
        }
      ]
    },
    {
      "cell_type": "markdown",
      "metadata": {
        "id": "6-sLUMZb6VuN",
        "colab_type": "text"
      },
      "source": [
        "#P1: data preparing"
      ]
    },
    {
      "cell_type": "code",
      "metadata": {
        "id": "1tIhMIQWWMP7",
        "colab_type": "code",
        "colab": {}
      },
      "source": [
        "def strip_punctuation(s):\n",
        "    return ''.join(c for c in s if c not in punctuation)\n",
        "root = \"/content/gdrive/My Drive/ESE545/amazonReviews.json\"\n",
        "df_org = pd.read_json(root, lines=True)"
      ],
      "execution_count": 0,
      "outputs": []
    },
    {
      "cell_type": "code",
      "metadata": {
        "id": "z4Su3iN-T0al",
        "colab_type": "code",
        "colab": {
          "base_uri": "https://localhost:8080/",
          "height": 122
        },
        "outputId": "37329668-b5bb-4a6c-c152-ad5bddc87d81"
      },
      "source": [
        "q_list = ['A14CK12J7C7JRK','AKDXXW89ZLCJS','A3UE610XPFAMZS','A3C8P7DE6H7ZY5']\n",
        "# for ID in q_list:\n",
        "print(df_org.reviewText[0])\n",
        "print(df_org.reviewText[69])\n",
        "print(df_org.reviewText[167])\n",
        "print(df_org.reviewText[243])\n",
        "print(df_org.reviewText[377])"
      ],
      "execution_count": 184,
      "outputs": [
        {
          "output_type": "stream",
          "text": [
            "I purchased the Trilogy with hoping my two cats, age 3 and 5 would be interested.  The 3 yr old cat was fascinated for about 15 minutes but when the same pictures came on, she got bored.  The 5 year old watched for about a few minutes but then walked away. It is possible that because we have a wonderful courtyard full of greenery and trees and one of my neighbors has a bird feeder, that there is enough going on outside that they prefer real life versus a taped version.  I will more than likely pass this on to a friend who has cats that don't have as much wildlife to watch as mine do.\n",
            "I have two cats, I bought this to help keep things clean and tidy, well it was a disaster and here is why.There is a MAJOR design flaw in this litter box, it has no solid scoop only a rake-like feature to pick up the cat waste. Well that is lovely if the waste isn't in any way still damp but if it is watch out! With the rake-like feature it dug through the waste and stuck in the scooper all the time. Then it would reverse and push the unscooped waste into the mechanisim and it was just gross! I was useing premium clumping litter so it wasn't the litter. I spent more time cleaning this litter box than I did the old fashion kind. I finally threw this thing away after about 6-12 months of trying to deal with it. I went out and bought an old fashioned covered box, it is cleaner, smells better and doesn't constantly jam the way my Littermaid did.Maybe if you have one cat of small to average size or even two small cats this thing will work fine but if you have a large cat or multiple large cats this thing is a disaster!\n",
            "I love the Wiggly Giggly, even though it lost it's giggle pretty quickly due to high playing usage, my dogs loved it and still take it out of the toy box!\n",
            "Average quality dog toy.  Got destroyed in a few weeks.  But my dog liked it while she had it.  Very average.\n",
            "Way too small for any dog that is bigger than the average cat. I gave it away to someone else since it wasn't worth shipping back.\n"
          ],
          "name": "stdout"
        }
      ]
    },
    {
      "cell_type": "code",
      "metadata": {
        "id": "X6AkLxtf2KwM",
        "colab_type": "code",
        "colab": {}
      },
      "source": [
        "stopword = [\"i\", \"me\", \"my\", \"myself\", \"we\", \"our\", \"ours\", \"ourselves\", \"you\", \"your\", \"yours\", \"yourself\", \"yourselves\", \"he\", \"him\", \"his\", \"himself\", \"she\", \"her\", \"hers\", \"herself\", \"it\", \"its\", \"itself\", \"they\", \"them\", \"their\", \"theirs\", \"themselves\", \"what\", \"which\", \"who\", \"whom\", \"this\", \"that\", \"these\", \"those\", \"am\", \"is\", \"are\", \"was\", \"were\", \"be\", \"been\", \"being\", \"have\", \"has\", \"had\", \"having\", \"do\", \"does\", \"did\", \"doing\", \"a\", \"an\", \"the\", \"and\", \"but\", \"if\", \"or\", \"because\", \"as\", \"until\", \"while\", \"of\", \"at\", \"by\", \"for\", \"with\", \"about\", \"against\", \"between\", \"into\", \"through\", \"during\", \"before\", \"after\", \"above\", \"below\", \"to\", \"from\", \"up\", \"down\", \"in\", \"out\", \"on\", \"off\", \"over\", \"under\", \"again\", \"further\", \"then\", \"once\", \"here\", \"there\", \"when\", \"where\", \"why\", \"how\", \"all\", \"any\", \"both\", \"each\", \"few\", \"more\", \"most\", \"other\", \"some\", \"such\", \"no\", \"nor\", \"not\", \"only\", \"own\", \"same\", \"so\", \"than\", \"too\", \"very\", \"s\", \"t\", \"can\", \"will\", \"just\", \"don\", \"should\", \"now\"]\n",
        "df_org['reviewText'] = df_org['reviewText'].str.lower()\n",
        "df_org['reviewText'] = df_org['reviewText'].str.replace(r'[^\\w\\s]',' ')\n",
        "df_org['reviewText'] = df_org['reviewText'].str.replace('_',' ')\n",
        "df_org['reviewText'] = df_org['reviewText'].str.split()"
      ],
      "execution_count": 0,
      "outputs": []
    },
    {
      "cell_type": "code",
      "metadata": {
        "id": "8wPfSYgdrsGP",
        "colab_type": "code",
        "colab": {}
      },
      "source": [
        "txt_new = []\n",
        "for txt in df_org['reviewText']:\n",
        "    txt_new.append([word for word in txt if word not in stopword])  #delete stopwords"
      ],
      "execution_count": 0,
      "outputs": []
    },
    {
      "cell_type": "code",
      "metadata": {
        "id": "ujXjKm4CnEZY",
        "colab_type": "code",
        "colab": {}
      },
      "source": [
        "df_final = pd.DataFrame({'reviewerID':df_org['reviewerID'],'reviewText':txt_new})\n",
        "df_final['reviewText']=[' '.join(item for item in x) for x in df_final['reviewText']]"
      ],
      "execution_count": 0,
      "outputs": []
    },
    {
      "cell_type": "code",
      "metadata": {
        "id": "T49MKoAFHwgc",
        "colab_type": "code",
        "colab": {}
      },
      "source": [
        "df_final = df_final[df_final.reviewText.str.len()>3]"
      ],
      "execution_count": 0,
      "outputs": []
    },
    {
      "cell_type": "code",
      "metadata": {
        "id": "7qARH_ylterM",
        "colab_type": "code",
        "colab": {}
      },
      "source": [
        "root = \"/content/gdrive/My Drive/ESE545/df_final.pkl\" \n",
        "df_final.to_pickle(root)"
      ],
      "execution_count": 0,
      "outputs": []
    },
    {
      "cell_type": "code",
      "metadata": {
        "id": "b5zy4v0YIeeG",
        "colab_type": "code",
        "outputId": "0fa89885-db41-4ac5-8119-5154897cc73a",
        "colab": {
          "base_uri": "https://localhost:8080/",
          "height": 255
        }
      },
      "source": [
        "print(df_final)"
      ],
      "execution_count": 0,
      "outputs": [
        {
          "output_type": "stream",
          "text": [
            "            reviewerID                                         reviewText\n",
            "0       A14CK12J7C7JRK  purchased trilogy hoping two cats age 3 5 woul...\n",
            "1       A39QHP5WLON5HV  usually one cats watching tv staying trouble d...\n",
            "2       A2CR37UY3VR7BN  bought triliogy tested dvds appears volume 2 w...\n",
            "3       A2A4COGL9VW2HY  female kitty could care less videos cares less...\n",
            "4       A2UBQA85NIGLHA  gotten volume two would given five stars since...\n",
            "...                ...                                                ...\n",
            "157831  A136YD08SCJ2LV  pet magasin retractable dog leash best ever us...\n",
            "157832  A2YKWYC3WQJX5J  m biggest fan retractable leashes certain circ...\n",
            "157833  A2K0D19N83G6U2  provided leash unbiased review 15 lb lhasa aps...\n",
            "157834  A3A4ZAIBQWKOZS  well designed leash offers flexi style retract...\n",
            "157835  A1ITRGMT80D5TK  leash stated good dogs 44 pounds 2 chihuahuas ...\n",
            "\n",
            "[157678 rows x 2 columns]\n"
          ],
          "name": "stdout"
        }
      ]
    },
    {
      "cell_type": "markdown",
      "metadata": {
        "id": "5nmKqW7X3YjQ",
        "colab_type": "text"
      },
      "source": [
        "#P2: K shingles\n",
        "- choose k=4\n",
        "- consider space and numbers\n",
        "- delete reviews that is too small for k=4!!"
      ]
    },
    {
      "cell_type": "code",
      "metadata": {
        "id": "Q5C1rkbelsCK",
        "colab_type": "code",
        "colab": {}
      },
      "source": [
        "root = \"/content/gdrive/My Drive/ESE545/df_final.pkl\" \n",
        "df_final = pd.read_pickle(root)"
      ],
      "execution_count": 0,
      "outputs": []
    },
    {
      "cell_type": "code",
      "metadata": {
        "id": "oKKygrHp5rI2",
        "colab_type": "code",
        "outputId": "d27e6987-f073-487a-984f-42b619447b71",
        "colab": {
          "base_uri": "https://localhost:8080/",
          "height": 34
        }
      },
      "source": [
        "print(df_final.iloc[4778,1])"
      ],
      "execution_count": 0,
      "outputs": [
        {
          "output_type": "stream",
          "text": [
            "50 gallon trough goldfish clean week easy clean love\n"
          ],
          "name": "stdout"
        }
      ]
    },
    {
      "cell_type": "code",
      "metadata": {
        "id": "F_0SIKjkcFMF",
        "colab_type": "code",
        "colab": {}
      },
      "source": [
        "df_test = df_final.copy()"
      ],
      "execution_count": 0,
      "outputs": []
    },
    {
      "cell_type": "code",
      "metadata": {
        "id": "RO79RBMB-meR",
        "colab_type": "code",
        "colab": {}
      },
      "source": [
        "letters = ascii_lowercase+' '+'0123456789'\n",
        "# ks =[i+j+k+m+n for i in letters for j in letters for k in letters for m in letters for n in letters]\n",
        "ks = [i+j+k+m for i in letters for j in letters for k in letters for m in letters]"
      ],
      "execution_count": 0,
      "outputs": []
    },
    {
      "cell_type": "code",
      "metadata": {
        "id": "kB1cCXyS6Axq",
        "colab_type": "code",
        "colab": {}
      },
      "source": [
        "len_ks = len(ks)"
      ],
      "execution_count": 0,
      "outputs": []
    },
    {
      "cell_type": "code",
      "metadata": {
        "id": "aZ_wOcBzxcF2",
        "colab_type": "code",
        "colab": {}
      },
      "source": [
        "dictOfWords = {ks[i]: i for i in range(len(ks))} "
      ],
      "execution_count": 0,
      "outputs": []
    },
    {
      "cell_type": "code",
      "metadata": {
        "id": "MmnjSCw92q_H",
        "colab_type": "code",
        "colab": {}
      },
      "source": [
        "del ks\n",
        "# del df_final\n",
        "# del dictOfWords\n",
        "# del d"
      ],
      "execution_count": 0,
      "outputs": []
    },
    {
      "cell_type": "code",
      "metadata": {
        "id": "bTlN17yWWrp6",
        "colab_type": "code",
        "colab": {}
      },
      "source": [
        "# k = 4\n",
        "# keys = np.fromiter(Samples.keys(), dtype=float)\n",
        "# d = [','.join(map(str,list(dict.fromkeys([dictOfWords.get(txt[i:i+k]) for i in range(len(txt)-k+1)])))) for txt in df_test['reviewText']]"
      ],
      "execution_count": 0,
      "outputs": []
    },
    {
      "cell_type": "code",
      "metadata": {
        "id": "_aDlqx8tH-DV",
        "colab_type": "code",
        "colab": {}
      },
      "source": [
        "k = 4\n",
        "d = [np.array(list(dict.fromkeys([dictOfWords.get(txt[i:i+k]) for i in range(len(txt)-k+1)]))) for txt in df_test['reviewText']]"
      ],
      "execution_count": 0,
      "outputs": []
    },
    {
      "cell_type": "code",
      "metadata": {
        "id": "H0toHUm-3HS6",
        "colab_type": "code",
        "colab": {}
      },
      "source": [
        "df_test.iloc[:,1] = d"
      ],
      "execution_count": 0,
      "outputs": []
    },
    {
      "cell_type": "code",
      "metadata": {
        "id": "umOlUV5XY6ov",
        "colab_type": "code",
        "colab": {}
      },
      "source": [
        "# df_test['reviewText']= ','+ df_test.reviewText + ','"
      ],
      "execution_count": 0,
      "outputs": []
    },
    {
      "cell_type": "code",
      "metadata": {
        "id": "sbviac34WsYB",
        "colab_type": "code",
        "colab": {}
      },
      "source": [
        "df_test"
      ],
      "execution_count": 0,
      "outputs": []
    },
    {
      "cell_type": "code",
      "metadata": {
        "id": "3jXb1B0lU4eX",
        "colab_type": "code",
        "colab": {}
      },
      "source": [
        "len_df = len(df_test)"
      ],
      "execution_count": 0,
      "outputs": []
    },
    {
      "cell_type": "code",
      "metadata": {
        "id": "dXJuuHtGObUX",
        "colab_type": "code",
        "colab": {}
      },
      "source": [
        "ind_col = []\n",
        "for txt in df_test.reviewText:\n",
        "    ind_col += txt"
      ],
      "execution_count": 0,
      "outputs": []
    },
    {
      "cell_type": "code",
      "metadata": {
        "id": "sv1cz5Q4Qzis",
        "colab_type": "code",
        "colab": {}
      },
      "source": [
        "s = max(ind_col)+1"
      ],
      "execution_count": 0,
      "outputs": []
    },
    {
      "cell_type": "code",
      "metadata": {
        "id": "EQhcEd9mR0qg",
        "colab_type": "code",
        "colab": {}
      },
      "source": [
        "data = [1]*len(ind_col)"
      ],
      "execution_count": 0,
      "outputs": []
    },
    {
      "cell_type": "code",
      "metadata": {
        "id": "LhTTHShJJQCX",
        "colab_type": "code",
        "colab": {}
      },
      "source": [
        "df_test = df_test.reviewText.apply(len)"
      ],
      "execution_count": 0,
      "outputs": []
    },
    {
      "cell_type": "code",
      "metadata": {
        "id": "Q1tHf6rLcIGS",
        "colab_type": "code",
        "colab": {}
      },
      "source": [
        "rows = df_test.values.tolist()"
      ],
      "execution_count": 0,
      "outputs": []
    },
    {
      "cell_type": "code",
      "metadata": {
        "id": "lpOKSOytxFuu",
        "colab_type": "code",
        "colab": {}
      },
      "source": [
        "rows_list = [np.sum(rows[0:i]) for i in range(1,len(rows))]"
      ],
      "execution_count": 0,
      "outputs": []
    },
    {
      "cell_type": "code",
      "metadata": {
        "id": "CC_jUYKK8yRF",
        "colab_type": "code",
        "colab": {}
      },
      "source": [
        "rows_list_new = [0]+rows_list"
      ],
      "execution_count": 0,
      "outputs": []
    },
    {
      "cell_type": "code",
      "metadata": {
        "id": "foWt7MKb9Enf",
        "colab_type": "code",
        "colab": {}
      },
      "source": [
        "rows_list_new = np.array(rows_list_new)"
      ],
      "execution_count": 0,
      "outputs": []
    },
    {
      "cell_type": "code",
      "metadata": {
        "id": "iAwrFRwwNR3H",
        "colab_type": "code",
        "colab": {}
      },
      "source": [
        "j = 0\n",
        "ind_row = []\n",
        "for i in rows:\n",
        "    ind_row += [j]*i\n",
        "    j += 1\n",
        "    "
      ],
      "execution_count": 0,
      "outputs": []
    },
    {
      "cell_type": "code",
      "metadata": {
        "id": "Kdh_f6_ORSVv",
        "colab_type": "code",
        "colab": {}
      },
      "source": [
        "ar_dense = csr_matrix((data,(ind_row, ind_col)), shape=(len_df,s))"
      ],
      "execution_count": 0,
      "outputs": []
    },
    {
      "cell_type": "code",
      "metadata": {
        "id": "UQ6nWuhy-MKT",
        "colab_type": "code",
        "colab": {
          "base_uri": "https://localhost:8080/",
          "height": 884
        },
        "outputId": "ae61a682-ed76-45dc-90a6-a136fd245739"
      },
      "source": [
        "print(ar_dense)"
      ],
      "execution_count": 54,
      "outputs": [
        {
          "output_type": "stream",
          "text": [
            "  (0, 8388)\t1\n",
            "  (0, 15433)\t1\n",
            "  (0, 16032)\t1\n",
            "  (0, 16602)\t1\n",
            "  (0, 20686)\t1\n",
            "  (0, 23410)\t1\n",
            "  (0, 24249)\t1\n",
            "  (0, 24724)\t1\n",
            "  (0, 24793)\t1\n",
            "  (0, 25334)\t1\n",
            "  (0, 26092)\t1\n",
            "  (0, 26162)\t1\n",
            "  (0, 26703)\t1\n",
            "  (0, 26978)\t1\n",
            "  (0, 30142)\t1\n",
            "  (0, 33833)\t1\n",
            "  (0, 62237)\t1\n",
            "  (0, 65886)\t1\n",
            "  (0, 70452)\t1\n",
            "  (0, 70466)\t1\n",
            "  (0, 101754)\t1\n",
            "  (0, 102027)\t1\n",
            "  (0, 102035)\t1\n",
            "  (0, 110907)\t1\n",
            "  (0, 111040)\t1\n",
            "  :\t:\n",
            "  (157677, 1347631)\t1\n",
            "  (157677, 1347725)\t1\n",
            "  (157677, 1349851)\t1\n",
            "  (157677, 1356335)\t1\n",
            "  (157677, 1356520)\t1\n",
            "  (157677, 1356557)\t1\n",
            "  (157677, 1357643)\t1\n",
            "  (157677, 1357654)\t1\n",
            "  (157677, 1357704)\t1\n",
            "  (157677, 1360384)\t1\n",
            "  (157677, 1360590)\t1\n",
            "  (157677, 1403794)\t1\n",
            "  (157677, 1404403)\t1\n",
            "  (157677, 1456224)\t1\n",
            "  (157677, 1463083)\t1\n",
            "  (157677, 1464428)\t1\n",
            "  (157677, 1504612)\t1\n",
            "  (157677, 1505026)\t1\n",
            "  (157677, 1506877)\t1\n",
            "  (157677, 1506893)\t1\n",
            "  (157677, 1606030)\t1\n",
            "  (157677, 1606406)\t1\n",
            "  (157677, 1613659)\t1\n",
            "  (157677, 1657590)\t1\n",
            "  (157677, 1707342)\t1\n"
          ],
          "name": "stdout"
        }
      ]
    },
    {
      "cell_type": "code",
      "metadata": {
        "id": "6u5uTVywWUbq",
        "colab_type": "code",
        "colab": {}
      },
      "source": [
        "root = '/content/gdrive/My Drive/ESE545/ar_dense.npz'\n",
        "sparse.save_npz(root, ar_dense)\n",
        "# ar_dense = sparse.load_npz(root)"
      ],
      "execution_count": 0,
      "outputs": []
    },
    {
      "cell_type": "code",
      "metadata": {
        "id": "hSjzvYfnZGb1",
        "colab_type": "code",
        "colab": {}
      },
      "source": [
        "# root = \"/content/gdrive/My Drive/ESE545/df_dense_4_array_based.pkl\" \n",
        "# df_test.to_pickle(root)"
      ],
      "execution_count": 0,
      "outputs": []
    },
    {
      "cell_type": "markdown",
      "metadata": {
        "id": "Xw3vLjh13gIm",
        "colab_type": "text"
      },
      "source": [
        "#P3: data visualization"
      ]
    },
    {
      "cell_type": "code",
      "metadata": {
        "id": "pAYjSo7gnHRE",
        "colab_type": "code",
        "colab": {}
      },
      "source": [
        "root = \"/content/gdrive/My Drive/ESE545/df_dense_4.pkl\" \n",
        "df_dense = pd.read_pickle(root)"
      ],
      "execution_count": 0,
      "outputs": []
    },
    {
      "cell_type": "code",
      "metadata": {
        "id": "P1Kh-NZXOgrE",
        "colab_type": "code",
        "colab": {
          "base_uri": "https://localhost:8080/",
          "height": 34
        },
        "outputId": "33d54e7c-8525-4579-94dc-11f5e0c48759"
      },
      "source": [
        "print(df_dense.iloc[243,0])"
      ],
      "execution_count": 173,
      "outputs": [
        {
          "output_type": "stream",
          "text": [
            "A3C8P7DE6H7ZY5\n"
          ],
          "name": "stdout"
        }
      ]
    },
    {
      "cell_type": "code",
      "metadata": {
        "id": "XPw4GmLQuW5I",
        "colab_type": "code",
        "colab": {}
      },
      "source": [
        "ind = np.random.randint(0,157678,size=[10000,2])\n",
        "dis_set = []\n",
        "for i in range(10000):\n",
        "    df_rand_pair = df_dense.iloc[ind[i],1]\n",
        "    df_rand_1 = df_rand_pair.iloc[0]\n",
        "    df_rand_2 = df_rand_pair.iloc[1]\n",
        "    sim = 0\n",
        "    for num in df_rand_1:\n",
        "        if num in df_rand_2:\n",
        "            sim += 1\n",
        "    sim = sim/(len(df_rand_1)+len(df_rand_2)-sim)\n",
        "    dis = 1-sim\n",
        "    dis_set.append(dis)\n",
        "dis_set = np.array(dis_set)"
      ],
      "execution_count": 0,
      "outputs": []
    },
    {
      "cell_type": "code",
      "metadata": {
        "id": "KGSbxxtc6Izt",
        "colab_type": "code",
        "colab": {}
      },
      "source": [
        "mean = np.mean(dis_set)\n",
        "min_dis = np.min(dis_set)"
      ],
      "execution_count": 0,
      "outputs": []
    },
    {
      "cell_type": "code",
      "metadata": {
        "id": "25pSpdH-3rV5",
        "colab_type": "code",
        "outputId": "d3a8c150-7a50-499b-f7a6-c9efafb827b8",
        "colab": {
          "base_uri": "https://localhost:8080/",
          "height": 34
        }
      },
      "source": [
        "print(mean,min_dis)"
      ],
      "execution_count": 0,
      "outputs": [
        {
          "output_type": "stream",
          "text": [
            "0.9717749323392454 0.8663101604278075\n"
          ],
          "name": "stdout"
        }
      ]
    },
    {
      "cell_type": "code",
      "metadata": {
        "id": "1KWZAdu2822I",
        "colab_type": "code",
        "outputId": "721cc16c-9e3a-49eb-d51d-12c314c1d510",
        "colab": {
          "base_uri": "https://localhost:8080/",
          "height": 330
        }
      },
      "source": [
        "fig, axs = plt.subplots(1, 1, constrained_layout=True)\n",
        "axs.hist(dis_set,100)\n",
        "axs.set_title('data distribution with k=4')"
      ],
      "execution_count": 0,
      "outputs": [
        {
          "output_type": "execute_result",
          "data": {
            "text/plain": [
              "Text(0.5, 1.0, 'data distribution with k=4')"
            ]
          },
          "metadata": {
            "tags": []
          },
          "execution_count": 31
        },
        {
          "output_type": "display_data",
          "data": {
            "image/png": "[encoded data removed]",
            "text/plain": [
              "<Figure size 432x288 with 1 Axes>"
            ]
          },
          "metadata": {
            "tags": []
          }
        }
      ]
    },
    {
      "cell_type": "markdown",
      "metadata": {
        "id": "D-5MWCDI5K8V",
        "colab_type": "text"
      },
      "source": [
        "#P4: Signature matrix & bands\n",
        "- m = 300, r = 12, b = 25\n"
      ]
    },
    {
      "cell_type": "code",
      "metadata": {
        "colab_type": "code",
        "id": "RajSCKcXXlK6",
        "colab": {}
      },
      "source": [
        "root = '/content/gdrive/My Drive/ESE545/ar_dense.npz'\n",
        "ar_dense = sparse.load_npz(root)"
      ],
      "execution_count": 0,
      "outputs": []
    },
    {
      "cell_type": "code",
      "metadata": {
        "id": "2KaUsMRGLSFG",
        "colab_type": "code",
        "colab": {}
      },
      "source": [
        "print(ar_dense)"
      ],
      "execution_count": 0,
      "outputs": []
    },
    {
      "cell_type": "code",
      "metadata": {
        "id": "7a7rUAHNYGxv",
        "colab_type": "code",
        "colab": {
          "base_uri": "https://localhost:8080/",
          "height": 236
        },
        "outputId": "a6352fab-562c-40ee-91b6-6795bc490858"
      },
      "source": [
        "m = 300\n",
        "first_one_ind = np.zeros((157678,m))\n",
        "for i in range(m):\n",
        "    index = np.random.permutation(s)\n",
        "    ar_permuted = ar_dense[:,index]\n",
        "    row,col = ar_permuted.nonzero()\n",
        "    col = col[rows_list_new]\n",
        "    first_one_ind[:,i] = col\n",
        "first_one_ind = first_one_ind.astype(int)\n",
        "root = '/content/gdrive/My Drive/ESE545/ar_signature.npy'\n",
        "np.save(root,first_one_ind)"
      ],
      "execution_count": 157,
      "outputs": [
        {
          "output_type": "error",
          "ename": "NameError",
          "evalue": "ignored",
          "traceback": [
            "\u001b[0;31m---------------------------------------------------------------------------\u001b[0m",
            "\u001b[0;31mNameError\u001b[0m                                 Traceback (most recent call last)",
            "\u001b[0;32m<ipython-input-157-3810a8121e6b>\u001b[0m in \u001b[0;36m<module>\u001b[0;34m()\u001b[0m\n\u001b[1;32m      5\u001b[0m     \u001b[0mar_permuted\u001b[0m \u001b[0;34m=\u001b[0m \u001b[0mar_dense\u001b[0m\u001b[0;34m[\u001b[0m\u001b[0;34m:\u001b[0m\u001b[0;34m,\u001b[0m\u001b[0mindex\u001b[0m\u001b[0;34m]\u001b[0m\u001b[0;34m\u001b[0m\u001b[0;34m\u001b[0m\u001b[0m\n\u001b[1;32m      6\u001b[0m     \u001b[0mrow\u001b[0m\u001b[0;34m,\u001b[0m\u001b[0mcol\u001b[0m \u001b[0;34m=\u001b[0m \u001b[0mar_permuted\u001b[0m\u001b[0;34m.\u001b[0m\u001b[0mnonzero\u001b[0m\u001b[0;34m(\u001b[0m\u001b[0;34m)\u001b[0m\u001b[0;34m\u001b[0m\u001b[0;34m\u001b[0m\u001b[0m\n\u001b[0;32m----> 7\u001b[0;31m     \u001b[0mcol\u001b[0m \u001b[0;34m=\u001b[0m \u001b[0mcol\u001b[0m\u001b[0;34m[\u001b[0m\u001b[0mrows_list_new\u001b[0m\u001b[0;34m]\u001b[0m\u001b[0;34m\u001b[0m\u001b[0;34m\u001b[0m\u001b[0m\n\u001b[0m\u001b[1;32m      8\u001b[0m     \u001b[0mfirst_one_ind\u001b[0m\u001b[0;34m[\u001b[0m\u001b[0;34m:\u001b[0m\u001b[0;34m,\u001b[0m\u001b[0mi\u001b[0m\u001b[0;34m]\u001b[0m \u001b[0;34m=\u001b[0m \u001b[0mcol\u001b[0m\u001b[0;34m\u001b[0m\u001b[0;34m\u001b[0m\u001b[0m\n\u001b[1;32m      9\u001b[0m \u001b[0mfirst_one_ind\u001b[0m \u001b[0;34m=\u001b[0m \u001b[0mfirst_one_ind\u001b[0m\u001b[0;34m.\u001b[0m\u001b[0mastype\u001b[0m\u001b[0;34m(\u001b[0m\u001b[0mint\u001b[0m\u001b[0;34m)\u001b[0m\u001b[0;34m\u001b[0m\u001b[0;34m\u001b[0m\u001b[0m\n",
            "\u001b[0;31mNameError\u001b[0m: name 'rows_list_new' is not defined"
          ]
        }
      ]
    },
    {
      "cell_type": "code",
      "metadata": {
        "id": "J3J20DV5jXQA",
        "colab_type": "code",
        "colab": {}
      },
      "source": [
        "# start = timeit.default_timer()\n",
        "# m = 200\n",
        "# R = len_ks\n",
        "# coef = np.random.randint(1,2*m,size=[m,2])\n",
        "# df_signature = pd.DataFrame(np.random.rand(len(df_test),m+1))\n",
        "# ind = 1\n",
        "# for a,b in coef:\n",
        "#     df_a = (a*df_test.reviewText+b)%R\n",
        "#     # df_signature.iloc[:,ind] = np.vectorize(min)(df_a)\n",
        "#     # df_signature.iloc[:,ind] = list(map(min,df_a))\n",
        "#     df_a.apply(min)\n",
        "#     df_signature.iloc[:,ind] = df_a\n",
        "#     ind += 1\n",
        "# root = \"/content/gdrive/My Drive/ESE545/df_signature.pkl\" \n",
        "# df_signature.to_pickle(root)\n",
        "# stop = timeit.default_timer()\n",
        "# print(stop-start)"
      ],
      "execution_count": 0,
      "outputs": []
    },
    {
      "cell_type": "code",
      "metadata": {
        "id": "xc-GhkClkXpd",
        "colab_type": "code",
        "colab": {}
      },
      "source": [
        "# start = timeit.default_timer()\n",
        "# m = 3\n",
        "# R = len_ks\n",
        "# df_signature = pd.DataFrame(np.random.rand(len(df_test),m))\n",
        "# a_test = np.random.randint(1,m+1,size = [1,m])\n",
        "# b_test = np.random.randint(0,m,size = [1,m])\n",
        "# df_t = np.array(df_test.reviewText.to_numpy()).reshape(-1,1)\n",
        "# df_t = (df_t @ a_test + b_test)%R\n",
        "# df_signature.iloc[:,:] = df_t\n",
        "# for i in range(m):\n",
        "#     df_signature = df_signature.iloc[:,i]\n",
        "# # root = \"/content/gdrive/My Drive/ESE545/df_signature.pkl\" \n",
        "# # df_signature.to_pickle(root)\n",
        "# stop = timeit.default_timer()\n",
        "# print(stop-start)\n"
      ],
      "execution_count": 0,
      "outputs": []
    },
    {
      "cell_type": "code",
      "metadata": {
        "id": "kRiscLvbCQx5",
        "colab_type": "code",
        "colab": {}
      },
      "source": [
        "# start = timeit.default_timer()\n",
        "# m = 100\n",
        "# R = len_ks\n",
        "# new_txt = np.zeros((len(df_dense),m))\n",
        "# for i in range(m):\n",
        "#     a = np.random.randint(1,int(np.sqrt(m))+2)\n",
        "#     b = np.random.randint(0,int(np.sqrt(m))+2)\n",
        "#     for i in range(R):\n",
        "#         df_test['signature'] = df_test.reviewText.str.contains((','+str((a*i+b) % R)+','))]\n",
        "#         if j%1000==0:\n",
        "#             stop = timeit.default_timer()\n",
        "#             print(j,'time=',stop-start)\n",
        "     "
      ],
      "execution_count": 0,
      "outputs": []
    },
    {
      "cell_type": "code",
      "metadata": {
        "id": "QfbcLbad_dNO",
        "colab_type": "code",
        "colab": {}
      },
      "source": [
        "root = '/content/gdrive/My Drive/ESE545/ar_signature.npy'\n",
        "ar_signature = np.load(root)"
      ],
      "execution_count": 0,
      "outputs": []
    },
    {
      "cell_type": "code",
      "metadata": {
        "id": "lcBQ-L6AB6mM",
        "colab_type": "code",
        "colab": {}
      },
      "source": [
        "ar_signature.astype(int)"
      ],
      "execution_count": 0,
      "outputs": []
    },
    {
      "cell_type": "code",
      "metadata": {
        "id": "Sk19gQZeCP74",
        "colab_type": "code",
        "colab": {}
      },
      "source": [
        "def seive(n):\n",
        "    mask = np.ones(n+1)\n",
        "    mask[:2] = 0\n",
        "    for i in range(2, int(n**.5)+1):\n",
        "        if not mask[i]:\n",
        "            continue\n",
        "        mask[i*i::i] = 0\n",
        "    return np.argwhere(mask)\n",
        "\n",
        "def get_nearest_prime(old_number):\n",
        "    try:\n",
        "        n = np.max(seive(2*old_number-1))\n",
        "        if n < old_number+1:\n",
        "            return None\n",
        "        return n\n",
        "    except ValueError:\n",
        "        return None"
      ],
      "execution_count": 0,
      "outputs": []
    },
    {
      "cell_type": "code",
      "metadata": {
        "id": "7KqpF1x8_U2c",
        "colab_type": "code",
        "outputId": "a19274de-0e4c-4eae-bde9-d58021796a1e",
        "colab": {
          "base_uri": "https://localhost:8080/",
          "height": 34
        }
      },
      "source": [
        "get_nearest_prime(1000000)"
      ],
      "execution_count": 101,
      "outputs": [
        {
          "output_type": "execute_result",
          "data": {
            "text/plain": [
              "1999993"
            ]
          },
          "metadata": {
            "tags": []
          },
          "execution_count": 101
        }
      ]
    },
    {
      "cell_type": "code",
      "metadata": {
        "id": "D7MCa7eWmfpF",
        "colab_type": "code",
        "colab": {}
      },
      "source": [
        "m = 300\n",
        "r = 12\n",
        "b = 25  # b = m/r\n",
        "P = 1999993\n",
        "coef = np.random.randint(1,P-1,size = [r,2])"
      ],
      "execution_count": 0,
      "outputs": []
    },
    {
      "cell_type": "code",
      "metadata": {
        "id": "utBdeXUmmqBz",
        "colab_type": "code",
        "colab": {}
      },
      "source": [
        "for a,b in coef:\n",
        "    print(a,b)"
      ],
      "execution_count": 0,
      "outputs": []
    },
    {
      "cell_type": "code",
      "metadata": {
        "id": "ZwoDuHlADpRU",
        "colab_type": "code",
        "colab": {
          "base_uri": "https://localhost:8080/",
          "height": 236
        },
        "outputId": "857ed632-31b1-4f13-b029-7e6463c3c9b0"
      },
      "source": [
        "j = 0\n",
        "ar_bands = np.zeros((len(ar_signature),b))\n",
        "for v in ar_signature:\n",
        "    v = v.reshape(b,r)  #v: b*r\n",
        "    sum_ = np.zeros(b)  \n",
        "    for i in range(r):  \n",
        "        sum_ += (coef[i,0]*v[:,i]+coef[i,1])%P\n",
        "        sum_.reshape(1,-1) #return 1*n\n",
        "    ar_bands[j] = sum_\n",
        "    j += 1\n",
        "ar_bands = ar_bands.astype(int)\n",
        "root = '/content/gdrive/My Drive/ESE545/ar_bands.npy'\n",
        "np.save(root,ar_bands)"
      ],
      "execution_count": 154,
      "outputs": [
        {
          "output_type": "error",
          "ename": "ValueError",
          "evalue": "ignored",
          "traceback": [
            "\u001b[0;31m---------------------------------------------------------------------------\u001b[0m",
            "\u001b[0;31mValueError\u001b[0m                                Traceback (most recent call last)",
            "\u001b[0;32m<ipython-input-154-a284b5c69e06>\u001b[0m in \u001b[0;36m<module>\u001b[0;34m()\u001b[0m\n\u001b[1;32m      2\u001b[0m \u001b[0mar_bands\u001b[0m \u001b[0;34m=\u001b[0m \u001b[0mnp\u001b[0m\u001b[0;34m.\u001b[0m\u001b[0mzeros\u001b[0m\u001b[0;34m(\u001b[0m\u001b[0;34m(\u001b[0m\u001b[0mlen\u001b[0m\u001b[0;34m(\u001b[0m\u001b[0mar_signature\u001b[0m\u001b[0;34m)\u001b[0m\u001b[0;34m,\u001b[0m\u001b[0mb\u001b[0m\u001b[0;34m)\u001b[0m\u001b[0;34m)\u001b[0m\u001b[0;34m\u001b[0m\u001b[0;34m\u001b[0m\u001b[0m\n\u001b[1;32m      3\u001b[0m \u001b[0;32mfor\u001b[0m \u001b[0mv\u001b[0m \u001b[0;32min\u001b[0m \u001b[0mar_signature\u001b[0m\u001b[0;34m:\u001b[0m\u001b[0;34m\u001b[0m\u001b[0;34m\u001b[0m\u001b[0m\n\u001b[0;32m----> 4\u001b[0;31m     \u001b[0mv\u001b[0m \u001b[0;34m=\u001b[0m \u001b[0mv\u001b[0m\u001b[0;34m.\u001b[0m\u001b[0mreshape\u001b[0m\u001b[0;34m(\u001b[0m\u001b[0mb\u001b[0m\u001b[0;34m,\u001b[0m\u001b[0mr\u001b[0m\u001b[0;34m)\u001b[0m  \u001b[0;31m#v: b*r\u001b[0m\u001b[0;34m\u001b[0m\u001b[0;34m\u001b[0m\u001b[0m\n\u001b[0m\u001b[1;32m      5\u001b[0m     \u001b[0msum_\u001b[0m \u001b[0;34m=\u001b[0m \u001b[0mnp\u001b[0m\u001b[0;34m.\u001b[0m\u001b[0mzeros\u001b[0m\u001b[0;34m(\u001b[0m\u001b[0mb\u001b[0m\u001b[0;34m)\u001b[0m\u001b[0;34m\u001b[0m\u001b[0;34m\u001b[0m\u001b[0m\n\u001b[1;32m      6\u001b[0m     \u001b[0;32mfor\u001b[0m \u001b[0mi\u001b[0m \u001b[0;32min\u001b[0m \u001b[0mrange\u001b[0m\u001b[0;34m(\u001b[0m\u001b[0mr\u001b[0m\u001b[0;34m)\u001b[0m\u001b[0;34m:\u001b[0m\u001b[0;34m\u001b[0m\u001b[0;34m\u001b[0m\u001b[0m\n",
            "\u001b[0;31mValueError\u001b[0m: cannot reshape array of size 300 into shape (60,15)"
          ]
        }
      ]
    },
    {
      "cell_type": "markdown",
      "metadata": {
        "id": "7mhENwgfBV7z",
        "colab_type": "text"
      },
      "source": [
        "#P5: detect pairs"
      ]
    },
    {
      "cell_type": "code",
      "metadata": {
        "id": "RYljBUeu1aVw",
        "colab_type": "code",
        "colab": {}
      },
      "source": [
        "root = '/content/gdrive/My Drive/ESE545/ar_bands.npy'\n",
        "ar_bands = np.load(root)"
      ],
      "execution_count": 0,
      "outputs": []
    },
    {
      "cell_type": "code",
      "metadata": {
        "id": "QAcIHqyv2R-o",
        "colab_type": "code",
        "colab": {}
      },
      "source": [
        "h_value_distinct = list(dict.fromkeys(list(ar_bands.reshape(-1))))"
      ],
      "execution_count": 0,
      "outputs": []
    },
    {
      "cell_type": "code",
      "metadata": {
        "id": "KbsTVIKlFSp7",
        "colab_type": "code",
        "colab": {}
      },
      "source": [
        "bucket_len = len(h_value_distinct)"
      ],
      "execution_count": 0,
      "outputs": []
    },
    {
      "cell_type": "code",
      "metadata": {
        "id": "Xl98yEGO7MGI",
        "colab_type": "code",
        "colab": {}
      },
      "source": [
        "buckets = []\n",
        "j = 0\n",
        "last_dup_inds = np.array([])\n",
        "for bucket in h_value_distinct:\n",
        "    sp_ar_bands = csr_matrix(ar_bands==bucket) \n",
        "    dup_inds = sp_ar_bands.nonzero()[0]\n",
        "    if 1-np.array_equal(dup_inds,last_dup_inds):\n",
        "        buckets.append(dup_inds)\n",
        "        last_dup_inds = dup_inds\n",
        "    j += 1\n",
        "    if j%5000==0:\n",
        "        print(j,buckets)"
      ],
      "execution_count": 0,
      "outputs": []
    },
    {
      "cell_type": "code",
      "metadata": {
        "id": "MPdoKPUkGJB9",
        "colab_type": "code",
        "colab": {
          "base_uri": "https://localhost:8080/",
          "height": 170
        },
        "outputId": "3f19cdc4-6585-4a01-bc09-1da143778b63"
      },
      "source": [
        "print(buckets[0][0:100])"
      ],
      "execution_count": 147,
      "outputs": [
        {
          "output_type": "stream",
          "text": [
            "[    0    69   167   243   377   720   749   841  1048  1050  1216  1452\n",
            "  1642  1651  1847  2445  2684  2823  2914  2956  2960  2961  2995  3000\n",
            "  3004  3033  3401  3476  3483  3686  3837  4165  4570  4608  4612  4616\n",
            "  4804  5491  5529  5532  5726  5833  6016  6024  6037  6133  6134  6480\n",
            "  6575  6730  6846  6873  7296  7327  7566  7792  7854  7868  7900  7975\n",
            "  7983  7991  8056  8110  8254  8257  8258  8527  8863  8866  8867  8869\n",
            "  8881  8892  8966  9024  9050  9074  9095  9319 10202 10452 10585 10609\n",
            " 10633 10641 10656 10709 10836 11102 11138 11155 11157 11162 11180 11190\n",
            " 11240 11278 11288 11294]\n"
          ],
          "name": "stdout"
        }
      ]
    },
    {
      "cell_type": "code",
      "metadata": {
        "id": "AGaECV1l_b88",
        "colab_type": "code",
        "colab": {
          "base_uri": "https://localhost:8080/",
          "height": 34
        },
        "outputId": "e39add87-fdcd-45d9-d908-69e95ba8a18a"
      },
      "source": [
        "51693/4855"
      ],
      "execution_count": 119,
      "outputs": [
        {
          "output_type": "execute_result",
          "data": {
            "text/plain": [
              "10.647373841400618"
            ]
          },
          "metadata": {
            "tags": []
          },
          "execution_count": 119
        }
      ]
    },
    {
      "cell_type": "code",
      "metadata": {
        "id": "tLxIN7js7I8L",
        "colab_type": "code",
        "colab": {
          "base_uri": "https://localhost:8080/",
          "height": 34
        },
        "outputId": "1de755a7-f8b1-4a75-c9ce-daf90dbe640a"
      },
      "source": [
        "# a = np.array([[1,2,3,2],[1,3,4,2]])\n",
        "bk = np.where(a==5)[0]\n",
        "print(np.array_equal(bk,np.array([])))"
      ],
      "execution_count": 84,
      "outputs": [
        {
          "output_type": "stream",
          "text": [
            "True\n"
          ],
          "name": "stdout"
        }
      ]
    },
    {
      "cell_type": "code",
      "metadata": {
        "id": "RQi1_x3Pn2tX",
        "colab_type": "code",
        "colab": {
          "base_uri": "https://localhost:8080/",
          "height": 34
        },
        "outputId": "f5bce8b8-1bd3-46d9-f80d-c788087bd09b"
      },
      "source": [
        "a = np.array([1,2,3])\n",
        "b = np.array([1,6,7])\n",
        "np.any(a == b)"
      ],
      "execution_count": 74,
      "outputs": [
        {
          "output_type": "execute_result",
          "data": {
            "text/plain": [
              "True"
            ]
          },
          "metadata": {
            "tags": []
          },
          "execution_count": 74
        }
      ]
    },
    {
      "cell_type": "code",
      "metadata": {
        "id": "UkFuC3qM3eh-",
        "colab_type": "code",
        "colab": {
          "base_uri": "https://localhost:8080/",
          "height": 34
        },
        "outputId": "0b70544e-df14-41ea-ab2b-0dc94e93d1d1"
      },
      "source": [
        ""
      ],
      "execution_count": 68,
      "outputs": [
        {
          "output_type": "execute_result",
          "data": {
            "text/plain": [
              "3750000"
            ]
          },
          "metadata": {
            "tags": []
          },
          "execution_count": 68
        }
      ]
    },
    {
      "cell_type": "code",
      "metadata": {
        "id": "r4MlIKm3vspr",
        "colab_type": "code",
        "colab": {
          "base_uri": "https://localhost:8080/",
          "height": 1000
        },
        "outputId": "b090916a-20cd-435c-e8bd-8d649660d6b7"
      },
      "source": [
        "# choose r,b and m\n",
        "Ms = [200,300,500,900] # The possible value of M(the number of hash function)\n",
        "s = np.arange(0,1,0.001) # The range of similarity\n",
        "for m in Ms:\n",
        "    r = [8,10,12,15,16,20]\n",
        "    b = [m/i for i in r]\n",
        "    for i in range(len(r)):        \n",
        "        plt.plot(s,1-(1-s**r[i])**b[i])\n",
        "    plt.vlines(0.8, 0, 1, colors = \"c\", linestyles = \"dashed\")\n",
        "    plt.legend(labels = r, loc = 'best')\n",
        "    plt.xlim(0.35, 1)\n",
        "    plt.xlabel('Sim')\n",
        "    plt.ylabel('Pr(hit)')\n",
        "    plt.title(\"# of hash function: %i\" % m)\n",
        "    plt.show()"
      ],
      "execution_count": 152,
      "outputs": [
        {
          "output_type": "display_data",
          "data": {
            "image/png": "[encoded data removed]",
            "text/plain": [
              "<Figure size 432x288 with 1 Axes>"
            ]
          },
          "metadata": {
            "tags": []
          }
        },
        {
          "output_type": "display_data",
          "data": {
            "image/png": "[encoded data removed]",
            "text/plain": [
              "<Figure size 432x288 with 1 Axes>"
            ]
          },
          "metadata": {
            "tags": []
          }
        },
        {
          "output_type": "display_data",
          "data": {
            "image/png": "[encoded data removed]",
            "text/plain": [
              "<Figure size 432x288 with 1 Axes>"
            ]
          },
          "metadata": {
            "tags": []
          }
        },
        {
          "output_type": "display_data",
          "data": {
            "image/png": "[encoded data removed]",
            "text/plain": [
              "<Figure size 432x288 with 1 Axes>"
            ]
          },
          "metadata": {
            "tags": []
          }
        }
      ]
    },
    {
      "cell_type": "code",
      "metadata": {
        "id": "E7rDDOJ-vta_",
        "colab_type": "code",
        "colab": {}
      },
      "source": [
        ""
      ],
      "execution_count": 0,
      "outputs": []
    }
  ]
}