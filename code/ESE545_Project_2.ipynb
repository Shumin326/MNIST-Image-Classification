{
  "nbformat": 4,
  "nbformat_minor": 0,
  "metadata": {
    "colab": {
      "name": "ESE545 Project 2.ipynb",
      "provenance": [],
      "collapsed_sections": [],
      "authorship_tag": "ABX9TyNiWV3aF3zP2LVQE5sP9s1q",
      "include_colab_link": true
    },
    "kernelspec": {
      "name": "python3",
      "display_name": "Python 3"
    }
  },
  "cells": [
    {
      "cell_type": "markdown",
      "metadata": {
        "id": "view-in-github",
        "colab_type": "text"
      },
      "source": [
        "<a href=\"https://colab.research.google.com/github/Shumin326/MNIST-Image-Classification/blob/master/code/ESE545_Project_2.ipynb\" target=\"_parent\"><img src=\"https://colab.research.google.com/assets/colab-badge.svg\" alt=\"Open In Colab\"/></a>"
      ]
    },
    {
      "cell_type": "code",
      "metadata": {
        "id": "oygFES7rhj9O",
        "colab_type": "code",
        "outputId": "85865edd-6fe1-4068-9d5f-ef57fec99692",
        "colab": {
          "base_uri": "https://localhost:8080/",
          "height": 122
        }
      },
      "source": [
        "from google.colab import drive\n",
        "drive.mount('/content/gdrive/')"
      ],
      "execution_count": 2,
      "outputs": [
        {
          "output_type": "stream",
          "text": [
            "Go to this URL in a browser: https://accounts.google.com/o/oauth2/auth?client_id=947318989803-6bn6qk8qdgf4n4g3pfee6491hc0brc4i.apps.googleusercontent.com&redirect_uri=urn%3aietf%3awg%3aoauth%3a2.0%3aoob&response_type=code&scope=email%20https%3a%2f%2fwww.googleapis.com%2fauth%2fdocs.test%20https%3a%2f%2fwww.googleapis.com%2fauth%2fdrive%20https%3a%2f%2fwww.googleapis.com%2fauth%2fdrive.photos.readonly%20https%3a%2f%2fwww.googleapis.com%2fauth%2fpeopleapi.readonly\n",
            "\n",
            "Enter your authorization code:\n",
            "··········\n",
            "Mounted at /content/gdrive/\n"
          ],
          "name": "stdout"
        }
      ]
    },
    {
      "cell_type": "code",
      "metadata": {
        "id": "wsu_Wsughv1G",
        "colab_type": "code",
        "colab": {}
      },
      "source": [
        "proj_root = '/content/gdrive/My Drive/ESE 545/proj2'\n",
        "data_root = '/content/gdrive/My Drive/ESE 545/proj2/data'"
      ],
      "execution_count": 0,
      "outputs": []
    },
    {
      "cell_type": "code",
      "metadata": {
        "id": "oKZ_ydkngaC8",
        "colab_type": "code",
        "colab": {}
      },
      "source": [
        "import numpy as np\n",
        "import matplotlib.pyplot as plt\n",
        "from matplotlib.pyplot import figure\n",
        "import torch\n",
        "import torchvision\n",
        "from torchvision import datasets, transforms\n",
        "import math\n",
        "import timeit\n",
        "import torch.nn as nn\n",
        "import torch.nn.functional as F\n",
        "from torch.autograd import Variable\n",
        "import torch.optim as optim"
      ],
      "execution_count": 0,
      "outputs": []
    },
    {
      "cell_type": "markdown",
      "metadata": {
        "id": "iiXZeeO6s8f0",
        "colab_type": "text"
      },
      "source": [
        "## Problem 1\n",
        "- data preprocess\n",
        "- data visualization"
      ]
    },
    {
      "cell_type": "code",
      "metadata": {
        "id": "3THf0cPbhdcv",
        "colab_type": "code",
        "colab": {}
      },
      "source": [
        "X_train_full = np.load(data_root+'/train.npy')\n",
        "y_train_full = np.load(data_root+'/train_labels.npy')\n",
        "X_test_full = np.load(data_root+'/test.npy')\n",
        "y_test_full = np.load(data_root+'/test_labels.npy')"
      ],
      "execution_count": 0,
      "outputs": []
    },
    {
      "cell_type": "code",
      "metadata": {
        "id": "vNzDV3u2iwaF",
        "colab_type": "code",
        "colab": {}
      },
      "source": [
        "def dataprocess_bi(X,y,X_t, y_t):\n",
        "    X_train = X.copy()\n",
        "    y_train = y.copy()\n",
        "    X_test = X_t.copy()\n",
        "    y_test = y_t.copy()\n",
        "    X_train = np.vstack((X_train[y_train==2],X_train[y_train==5]))\n",
        "    X_train = (X_train-127.5)\n",
        "    y_train = np.hstack((y_train[y_train==2],y_train[y_train==5]))\n",
        "    y_train[y_train==2] = 1\n",
        "    y_train[y_train==5] = -1\n",
        "    X_test = np.vstack((X_test[y_test==2],X_test[y_test==5]))\n",
        "    X_test = (X_test-127.5)\n",
        "    y_test = np.hstack((y_test[y_test==2],y_test[y_test==5]))\n",
        "    y_test[y_test==2] = 1\n",
        "    y_test[y_test==5] = -1\n",
        "    X_train = X_train.reshape(len(X_train),28*28)\n",
        "    X_test = X_test.reshape(len(X_test),28*28)\n",
        "    return X_train, y_train, X_test, y_test"
      ],
      "execution_count": 0,
      "outputs": []
    },
    {
      "cell_type": "code",
      "metadata": {
        "id": "OA8ns5__n-ha",
        "colab_type": "code",
        "colab": {}
      },
      "source": [
        "def dataprocess_tri(X,y,X_t, y_t):\n",
        "    X_train = X.copy()\n",
        "    y_train = y.copy()\n",
        "    X_test = X_t.copy()\n",
        "    y_test = y_t.copy()\n",
        "    X_train = np.vstack((X_train[y_train==2],X_train[y_train==5],X_train[y_train==7]))\n",
        "    X_train = (X_train-127.5)\n",
        "    y_train = np.hstack((y_train[y_train==2],y_train[y_train==5],y_train[y_train==7]))\n",
        "    X_test = np.vstack((X_test[y_test==2],X_test[y_test==5],X_test[y_test==7]))\n",
        "    X_train = (X_train-127.5)\n",
        "    y_test = np.hstack((y_test[y_test==2],y_test[y_test==5],y_test[y_test==7]))\n",
        "    X_train = X_train.reshape(len(X_train),28*28)\n",
        "    X_test = X_test.reshape(len(X_test),28*28)\n",
        "    return X_train, y_train, X_test, y_test"
      ],
      "execution_count": 0,
      "outputs": []
    },
    {
      "cell_type": "code",
      "metadata": {
        "id": "O7T7jfHGly6j",
        "colab_type": "code",
        "colab": {}
      },
      "source": [
        "def visualization(X,y):\n",
        "    X_plt = X.copy()\n",
        "    y_plt = y.copy()\n",
        "    X_plt = np.vstack((X_plt[y_plt==2],X_plt[y_plt==5],X_plt[y_plt==7]))\n",
        "    p = np.random.randint(0,len(y_plt),10)\n",
        "    X_rand, y_rand = X[p], y_plt[p]\n",
        "    fig,ax =  plt.subplots(2,5,figsize = (8,8))\n",
        "    for i in range(10):\n",
        "        row = int(i/5)\n",
        "        col = i-5*row\n",
        "        ax[row][col].imshow(X_rand[i],cmap='gray', vmin=0, vmax=255)\n",
        "        ax[row][col].set_title('class= '+str(y_rand[i]))\n",
        "    plt.show()"
      ],
      "execution_count": 0,
      "outputs": []
    },
    {
      "cell_type": "code",
      "metadata": {
        "id": "bbccUDnVoPOA",
        "colab_type": "code",
        "outputId": "85ce4a5f-4bd6-45b3-9dac-9d6c5fe38513",
        "colab": {
          "base_uri": "https://localhost:8080/",
          "height": 599
        }
      },
      "source": [
        "visualization(X_train_full,y_train_full)"
      ],
      "execution_count": 88,
      "outputs": [
        {
          "output_type": "stream",
          "text": [
            "[[-1.00784314 -1.00784314 -1.00784314 ... -1.00784314 -1.00784314\n",
            "  -1.00784314]\n",
            " [-1.00784314 -1.00784314 -1.00784314 ... -1.0035371  -1.00784314\n",
            "  -1.00784314]\n",
            " [-1.00784314 -1.00784314 -1.00784314 ... -1.00784314 -1.00784314\n",
            "  -1.00784314]\n",
            " ...\n",
            " [-1.00784314 -1.00784314 -1.00784314 ... -1.00784314 -1.00784314\n",
            "  -1.00784314]\n",
            " [-1.00784314 -1.00784314 -1.00784314 ... -1.00784314 -1.00784314\n",
            "  -1.00784314]\n",
            " [-1.00784314 -1.00784314 -1.00784314 ... -1.00784314 -1.00784314\n",
            "  -1.00784314]]\n"
          ],
          "name": "stdout"
        },
        {
          "output_type": "display_data",
          "data": {
            "image/png": "[encoded data removed]",
            "text/plain": [
              "<Figure size 576x576 with 10 Axes>"
            ]
          },
          "metadata": {
            "tags": []
          }
        }
      ]
    },
    {
      "cell_type": "markdown",
      "metadata": {
        "id": "XVVEvl_wtLkR",
        "colab_type": "text"
      },
      "source": [
        "#Problem 2\n",
        "- PEGASOS"
      ]
    },
    {
      "cell_type": "code",
      "metadata": {
        "id": "HAkrAdG2vpOJ",
        "colab_type": "code",
        "colab": {}
      },
      "source": [
        "def pegasos(X_train,y_train, B=30,lambda_=2,Iter=50):\n",
        "    # lambda_: lambda_strongly_convex\n",
        "    # B: batch size\n",
        "    w = np.zeros(X_train.shape[1])  # initialize w\n",
        "    W = np.zeros((Iter,X_train.shape[1]))\n",
        "    for iteration in range(Iter):\n",
        "        idx = np.random.randint(0,len(X_train),B)\n",
        "        A_x = X_train[idx]\n",
        "        A_y = y_train[idx]\n",
        "        idx_sub = [i for i in range(B) if A_y[i]*w@A_x[i]<1]\n",
        "        A_x_sub = A_x[idx_sub]\n",
        "        A_y_sub = A_y[idx_sub]\n",
        "        yita = 1/((iteration+1)*lambda_)\n",
        "        delta_t = lambda_*w - yita/B*A_y_sub@A_x_sub\n",
        "        w_ = w - yita*delta_t\n",
        "        w = min(1,1/math.sqrt(lambda_)/math.sqrt(sum(w_**2)))*w_\n",
        "        W[iteration] = w\n",
        "    return W"
      ],
      "execution_count": 0,
      "outputs": []
    },
    {
      "cell_type": "code",
      "metadata": {
        "id": "7cY50wMjxT98",
        "colab_type": "code",
        "colab": {}
      },
      "source": [
        "def evaluation(W,X_train,y_train,X_test,y_test):\n",
        "    # input:    W: weights for each iteration, (iteration#,784)\n",
        "    #           X,y\n",
        "    # output:   err_train, err_test and corresponding plots\n",
        "    err_train = np.count_nonzero(np.sign(W@X_train.T)!=y_train,axis=1)/len(y_train)\n",
        "    err_test = np.count_nonzero(np.sign(W@X_test.T)!=y_test,axis=1)/len(y_test)\n",
        "    # return err_test[-1],err_train[-1]\n",
        "    print('best test error:',err_test[-1],'best training error:',err_train[-1])\n",
        "    plots(err_train,err_test)"
      ],
      "execution_count": 0,
      "outputs": []
    },
    {
      "cell_type": "code",
      "metadata": {
        "id": "TYoPFCqMaiDo",
        "colab_type": "code",
        "colab": {}
      },
      "source": [
        "def plots(err_train=[],err_test=[]):\n",
        "    if len(err_train)>0:\n",
        "        plt.plot(np.arange(len(err_train)),err_train)\n",
        "        plt.xlabel('iteration')\n",
        "        plt.ylabel('error')\n",
        "        plt.title(\"training error vs iteration\")\n",
        "        plt.show()\n",
        "    if len(err_test)>0:\n",
        "        plt.plot(np.arange(len(err_test)),err_test)\n",
        "        plt.xlabel('iteration')\n",
        "        plt.ylabel('error')\n",
        "        plt.title('test error vs iteration')"
      ],
      "execution_count": 0,
      "outputs": []
    },
    {
      "cell_type": "code",
      "metadata": {
        "id": "uQTjXgWwpd-Y",
        "colab_type": "code",
        "outputId": "d668f7ca-30cf-4e4a-8f06-11c24780f874",
        "colab": {
          "base_uri": "https://localhost:8080/",
          "height": 34
        }
      },
      "source": [
        "# for problem 2, use two classes: 2&5\n",
        "X_train, y_train, X_test, y_test = dataprocess_bi(X_train_full,y_train_full,X_test_full,y_test_full)\n",
        "W = pegasos(X_train,y_train)\n",
        "evaluation(W,X_train,y_train,X_test,y_test)"
      ],
      "execution_count": 143,
      "outputs": [
        {
          "output_type": "execute_result",
          "data": {
            "text/plain": [
              "(0.0025, 0.005166666666666667)"
            ]
          },
          "metadata": {
            "tags": []
          },
          "execution_count": 143
        }
      ]
    },
    {
      "cell_type": "code",
      "metadata": {
        "id": "fh-d9t8d2VLm",
        "colab_type": "code",
        "colab": {
          "base_uri": "https://localhost:8080/",
          "height": 34
        },
        "outputId": "ddbef5ca-de3c-4589-e3cc-210e9549757f"
      },
      "source": [
        "# # for parameter tuning, run this part:\n",
        "# test = 0\n",
        "# train = 0\n",
        "# start = timeit.default_timer()\n",
        "# for i in range(20):\n",
        "#     W = pegasos(X_train,y_train)\n",
        "#     err_test, err_train = evaluation(W,X_train,y_train,X_test,y_test)\n",
        "#     test+= err_test\n",
        "#     train += err_train\n",
        "# stop = timeit.default_timer()\n",
        "# print('average final test error:',test/20,'average final train error:',train/20,'average time cost:',(stop-start)/20)"
      ],
      "execution_count": 40,
      "outputs": [
        {
          "output_type": "stream",
          "text": [
            "average final test error: 0.004675 average final train error: 0.0066125 average time cost: 0.1312650817500071\n"
          ],
          "name": "stdout"
        }
      ]
    },
    {
      "cell_type": "markdown",
      "metadata": {
        "id": "WQkSObpWjVVe",
        "colab_type": "text"
      },
      "source": [
        "# Problem 3\n",
        "- adagrad\n",
        "- permutation needed"
      ]
    },
    {
      "cell_type": "code",
      "metadata": {
        "id": "tmji1qE-tpHu",
        "colab_type": "code",
        "colab": {}
      },
      "source": [
        "def permutate_data(X,y):\n",
        "    idx = np.random.permutation(len(y))\n",
        "    X_pmt = X.copy()\n",
        "    y_pmt = y.copy()\n",
        "    X_pmt = X_pmt[idx]\n",
        "    y_pmt = y_pmt[idx]\n",
        "    return X_pmt,y_pmt"
      ],
      "execution_count": 0,
      "outputs": []
    },
    {
      "cell_type": "code",
      "metadata": {
        "id": "mWOwgR8H1PHf",
        "colab_type": "code",
        "colab": {}
      },
      "source": [
        "def diag_inv(G):\n",
        "    diag = np.diagonal(G)\n",
        "    g = np.zeros((len(G),len(G)))\n",
        "    np.fill_diagonal(g,diag)\n",
        "    return g"
      ],
      "execution_count": 0,
      "outputs": []
    },
    {
      "cell_type": "code",
      "metadata": {
        "id": "plmYqTYF5GEV",
        "colab_type": "code",
        "colab": {}
      },
      "source": [
        "def updateG(G,xt,yt):\n",
        "    diag = np.sqrt((yt*xt)**2 + np.diagonal(G)**2)\n",
        "    g = np.zeros((len(G),len(G)))\n",
        "    np.fill_diagonal(g,diag)\n",
        "    return g"
      ],
      "execution_count": 0,
      "outputs": []
    },
    {
      "cell_type": "code",
      "metadata": {
        "id": "FCzhjdp-bGZF",
        "colab_type": "code",
        "colab": {}
      },
      "source": [
        "def adagrad_svm(X_train,y_train,iteration=50,B=20,yita=0.015):\n",
        "    G = np.eye(X_train.shape[1])*100\n",
        "    w = np.zeros(X_train.shape[1])\n",
        "    W = np.zeros((iteration,X_train.shape[1]))\n",
        "    err_train = []\n",
        "    err_test = []\n",
        "    for i in range(iteration):\n",
        "        idx = np.random.randint(0,len(X_train),B)\n",
        "        X = X_train[idx]\n",
        "        y = y_train[idx]\n",
        "        for t in range(B):\n",
        "            if y[t]*(w@X[t])<1:\n",
        "                deltaf = -y[t]*X[t]\n",
        "            else:\n",
        "                deltaf = np.zeros(X.shape[1])\n",
        "            w -= yita*diag_inv(G)@deltaf\n",
        "            G = updateG(G,X[t],y[t])\n",
        "        W[i] = w\n",
        "    return W"
      ],
      "execution_count": 0,
      "outputs": []
    },
    {
      "cell_type": "code",
      "metadata": {
        "id": "siLQo_w615Yn",
        "colab_type": "code",
        "outputId": "d9bf5dd9-472a-40d7-a197-bd1b95cd7871",
        "colab": {
          "base_uri": "https://localhost:8080/",
          "height": 34
        }
      },
      "source": [
        "X_train, y_train, X_test, y_test = dataprocess_bi(X_train_full,y_train_full,X_test_full,y_test_full)\n",
        "X_train, y_train = permutate_data(X_train,y_train)\n",
        "W = adagrad_svm(X_train,y_train)\n",
        "evaluation(W,X_train, y_train, X_test, y_test)"
      ],
      "execution_count": 141,
      "outputs": [
        {
          "output_type": "execute_result",
          "data": {
            "text/plain": [
              "(0.005, 0.00575)"
            ]
          },
          "metadata": {
            "tags": []
          },
          "execution_count": 141
        }
      ]
    },
    {
      "cell_type": "code",
      "metadata": {
        "colab_type": "code",
        "outputId": "8f061a5a-b998-4404-e652-4dfd560fad26",
        "id": "Tm-WiI3ICM2J",
        "colab": {
          "base_uri": "https://localhost:8080/",
          "height": 34
        }
      },
      "source": [
        "# # for parameter tuning, run this part:\n",
        "# test = 0\n",
        "# train = 0\n",
        "# start = timeit.default_timer()\n",
        "# for i in range(20):\n",
        "#     W = adagrad_svm(X_train,y_train,yita=0.02)\n",
        "#     err_test, err_train = evaluation(W,X_train,y_train,X_test,y_test)\n",
        "#     test += err_test\n",
        "#     train += err_train\n",
        "# stop = timeit.default_timer()\n",
        "# print('average final test error:',test/20,'average final train error:',train/20,'average time cost:',(stop-start)/20)"
      ],
      "execution_count": 167,
      "outputs": [
        {
          "output_type": "stream",
          "text": [
            "average final test error: 0.013225000000000004 average final train error: 0.016854166666666667 average time cost: 2.0743455931499737\n"
          ],
          "name": "stdout"
        }
      ]
    },
    {
      "cell_type": "markdown",
      "metadata": {
        "id": "2vyqZVi3OrBp",
        "colab_type": "text"
      },
      "source": [
        "# problem 5\n",
        "- one vs one\n",
        "- pegasos based multi-classfier"
      ]
    },
    {
      "cell_type": "code",
      "metadata": {
        "id": "udmKJ-oi4SXB",
        "colab_type": "code",
        "colab": {}
      },
      "source": [
        "def split_tri(X_train,y_train):\n",
        "    X_train_1 = np.vstack((X_train[y_train==2],X_train[y_train==5]))\n",
        "    y_train_1 = np.hstack((y_train[y_train==2],y_train[y_train==5]))\n",
        "    X_train_1,y_train_1 = permutate_data(X_train_1,y_train_1)\n",
        "    y_train_1[y_train_1==2] = 1\n",
        "    y_train_1[y_train_1==5] = -1\n",
        "    X_train_2 = np.vstack((X_train[y_train==2],X_train[y_train==7]))\n",
        "    y_train_2 = np.hstack((y_train[y_train==2],y_train[y_train==7]))\n",
        "    X_train_2,y_train_2 = permutate_data(X_train_2,y_train_2)\n",
        "    y_train_2[y_train_2==2] = 1\n",
        "    y_train_2[y_train_2==7] = -1\n",
        "\n",
        "    X_train_3 = np.vstack((X_train[y_train==5],X_train[y_train==7]))\n",
        "    y_train_3 = np.hstack((y_train[y_train==5],y_train[y_train==7]))\n",
        "    X_train_3,y_train_3 = permutate_data(X_train_3,y_train_3)\n",
        "    y_train_3[y_train_3==5] = 1\n",
        "    y_train_3[y_train_3==7] = -1\n",
        "\n",
        "    return X_train_1,y_train_1,X_train_2,y_train_2,X_train_3,y_train_3"
      ],
      "execution_count": 0,
      "outputs": []
    },
    {
      "cell_type": "code",
      "metadata": {
        "id": "UZGHSj0c-jfN",
        "colab_type": "code",
        "colab": {}
      },
      "source": [
        "def det_class(predicts_float):\n",
        "    #input:     predicts, (3,), e.g. [-1,1,-1]\n",
        "    #output:    one of the classes{2,5,7}\n",
        "    predicts = np.sign(predicts_float)\n",
        "    # certain cases\n",
        "    if predicts[1]==-1 and predicts[2]==-1:\n",
        "        return 7\n",
        "    if predicts[0]==-1 and predicts[2]==1:\n",
        "        return 5\n",
        "    if predicts[0]==1 and predicts[1]==1:\n",
        "        return 2\n",
        "    # uncertain cases\n",
        "    L = [2,5,7]\n",
        "    num_2 = predicts_float[0]+predicts_float[1]\n",
        "    num_5 = -predicts_float[0]+predicts_float[2]\n",
        "    num_7 = -predicts_float[1]-predicts_float[2]\n",
        "    return L[np.argmax([num_2,num_5,num_7])]\n",
        "    "
      ],
      "execution_count": 0,
      "outputs": []
    },
    {
      "cell_type": "code",
      "metadata": {
        "id": "dZ7epAmrvxHu",
        "colab_type": "code",
        "colab": {}
      },
      "source": [
        "def multiclass(X_train,y_train,X_test,y_test):\n",
        "    X_train_1,y_train_1,X_train_2,y_train_2,X_train_3,y_train_3 = split_tri(X_train,y_train)\n",
        "    # 3 classifiers on label 2,5,7\n",
        "    # use pegasos\n",
        "    W_1 = pegasos(X_train_1,y_train_1,Iter = 250)\n",
        "    W_2 = pegasos(X_train_2,y_train_2,Iter = 250)\n",
        "    W_3 = pegasos(X_train_3,y_train_3,Iter = 250)\n",
        "    # use adagrad\n",
        "    # W_1 = adagrad_svm(X_train_1,y_train_1,iteration=100)\n",
        "    # W_2 = adagrad_svm(X_train_2,y_train_2,iteration=100)\n",
        "    # W_3 = adagrad_svm(X_train_3,y_train_3,iteration = 100)\n",
        "    Y_train_pred = np.zeros((len(W_1),len(y_train),3))\n",
        "    Y_train_pred[:,:,0] = W_1@X_train.T\n",
        "    Y_train_pred[:,:,1] = W_2@X_train.T\n",
        "    Y_train_pred[:,:,2] = W_3@X_train.T\n",
        "    Y_test_pred = np.zeros((len(W_1),len(y_test),3))\n",
        "    Y_test_pred[:,:,0] = W_1@X_test.T\n",
        "    Y_test_pred[:,:,1] = W_2@X_test.T\n",
        "    Y_test_pred[:,:,2] = W_3@X_test.T\n",
        "    err_train = []\n",
        "    err_test = []\n",
        "    for i in range(len(W_1)):\n",
        "        seq = map(det_class,Y_train_pred[i,:,:])\n",
        "        result = np.fromiter(seq, dtype=np.int)\n",
        "        err_train.append(np.count_nonzero(result!=y_train)/len(y_train))\n",
        "        seq = map(det_class,Y_test_pred[i,:,:])\n",
        "        result = np.fromiter(seq, dtype=np.int)\n",
        "        err_test.append(np.count_nonzero(result!=y_test)/len(y_test))\n",
        "    return err_train,err_test"
      ],
      "execution_count": 0,
      "outputs": []
    },
    {
      "cell_type": "code",
      "metadata": {
        "id": "hAeQ0FhNCKu4",
        "colab_type": "code",
        "colab": {
          "base_uri": "https://localhost:8080/",
          "height": 590
        },
        "outputId": "282d21bc-3586-467f-f8f4-bcc1a7f8d6e5"
      },
      "source": [
        "X_train, y_train, X_test, y_test = dataprocess_tri(X_train_full,y_train_full,X_test_full,y_test_full)\n",
        "start = timeit.default_timer()\n",
        "err_train,err_test = multiclass(X_train,y_train,X_test,y_test)\n",
        "stop = timeit.default_timer()\n",
        "print('final test error:',err_test[-1],'final training error:',err_train[-1],'time spent:',stop-start)\n",
        "plots(err_train,err_test)"
      ],
      "execution_count": 65,
      "outputs": [
        {
          "output_type": "stream",
          "text": [
            "best test error: 0.046 best training error: 0.04388888888888889 time spent: 19.52347368699884\n"
          ],
          "name": "stdout"
        },
        {
          "output_type": "display_data",
          "data": {
            "image/png": "[encoded data removed]",
            "text/plain": [
              "<Figure size 432x288 with 1 Axes>"
            ]
          },
          "metadata": {
            "tags": []
          }
        },
        {
          "output_type": "display_data",
          "data": {
            "image/png": "[encoded data removed]",
            "text/plain": [
              "<Figure size 432x288 with 1 Axes>"
            ]
          },
          "metadata": {
            "tags": []
          }
        }
      ]
    },
    {
      "cell_type": "markdown",
      "metadata": {
        "id": "JyxcKkc7pwI9",
        "colab_type": "text"
      },
      "source": [
        "# Problem 6"
      ]
    },
    {
      "cell_type": "code",
      "metadata": {
        "id": "vIv4yIC2qMQ8",
        "colab_type": "code",
        "colab": {}
      },
      "source": [
        "class Net(nn.Module):\n",
        "    def __init__(self):\n",
        "        super(Net, self).__init__()\n",
        "        \n",
        "        super(Net, self).__init__()\n",
        "        self.conv1 = nn.Conv2d(1,16,5,stride=1, padding=2)\n",
        "        self.pool = nn.MaxPool2d(2)\n",
        "        self.conv2 = nn.Conv2d(16,32,5,stride=1, padding=2)\n",
        "        self.drop = nn.Dropout2d(p=0.5)\n",
        "        self.out = nn.Linear(32 * 7 * 7, 10)\n",
        "\n",
        "    def forward(self, x):\n",
        "\n",
        "      x = self.pool(F.relu(self.conv1(x)))\n",
        "      x = self.pool(F.relu(self.conv2(x)))\n",
        "      x = self.drop(x)\n",
        "      x = x.view(-1, 32*7*7)          \n",
        "      x = self.out(x)\n",
        "      \n",
        "      return x"
      ],
      "execution_count": 0,
      "outputs": []
    },
    {
      "cell_type": "code",
      "metadata": {
        "id": "4kprsoK_uYx7",
        "colab_type": "code",
        "colab": {}
      },
      "source": [
        "def data_cnn(X,y,X_t,y_t):\n",
        "    X_train = X.copy()\n",
        "    y_train = y.copy()\n",
        "    X_test = X_t.copy()\n",
        "    y_test = y_t.copy()\n",
        "    X_train = np.vstack((X_train[y_train==2],X_train[y_train==5],X_train[y_train==7]))\n",
        "    X_train = (X_train-127.5)/127.5\n",
        "    X_train = X_train.reshape(len(X_train),1,28,28).astype(np.float32)\n",
        "    y_train = np.hstack((y_train[y_train==2],y_train[y_train==5],y_train[y_train==7]))\n",
        "    X_test = np.vstack((X_test[y_test==2],X_test[y_test==5],X_test[y_test==7]))\n",
        "    X_test = X_test.reshape(len(X_test),1,28,28).astype(np.float32)\n",
        "    X_test = X_test-127.5/127.5\n",
        "    y_test = np.hstack((y_test[y_test==2],y_test[y_test==5],y_test[y_test==7]))\n",
        "    X_train = torch.from_numpy(X_train)\n",
        "    y_train = torch.from_numpy(y_train)\n",
        "    X_test = torch.from_numpy(X_test)\n",
        "    y_test = torch.from_numpy(y_test)\n",
        "    return X_train, y_train, X_test, y_test"
      ],
      "execution_count": 0,
      "outputs": []
    },
    {
      "cell_type": "code",
      "metadata": {
        "id": "B5YohuMbIKM-",
        "colab_type": "code",
        "colab": {}
      },
      "source": [
        "def cnn(X_train,y_train,X_test,y_test,B=40,iteration=300):\n",
        "    err_train = []\n",
        "    err_test = []\n",
        "\n",
        "    for epoch in range(iteration):  # loop over the dataset multiple times\n",
        "        idx = np.random.randint(0,len(X_train),B)\n",
        "        X = X_train[idx]\n",
        "        y = y_train[idx]\n",
        "\n",
        "        optimizer.zero_grad()\n",
        "        outputs = net(X)\n",
        "        loss = criterion(outputs, y)\n",
        "        loss.backward()\n",
        "        optimizer.step()\n",
        "        \n",
        "        # get training error for each epoch\n",
        "        outputs_train = net(X_train)\n",
        "        _, predicted_train = torch.max(outputs_train.data, 1)\n",
        "        correct_train = (predicted_train == y_train).sum().item()\n",
        "        err_train.append(1-correct_train/len(X_train))\n",
        "\n",
        "        # get test error for each epoch\n",
        "        outputs_test = net(X_test)\n",
        "        _, predicted_test = torch.max(outputs_test.data, 1)\n",
        "        correct_test = (predicted_test == y_test).sum().item()\n",
        "        err_test.append(1-correct_test/len(X_test))\n",
        "\n",
        "        if epoch%20==0:\n",
        "            print('epoch:',epoch,'train error:',1-correct_train/len(y_train),'test error:',1-correct_test/len(y_test))\n",
        "    print('Finished Training!')\n",
        "    plots(err_train=err_train,err_test=err_test)"
      ],
      "execution_count": 0,
      "outputs": []
    },
    {
      "cell_type": "code",
      "metadata": {
        "id": "P_1gw6idqZdu",
        "colab_type": "code",
        "colab": {
          "base_uri": "https://localhost:8080/",
          "height": 34
        },
        "outputId": "656edf8d-d760-4acc-c3e4-51c43f828e77"
      },
      "source": [
        "X_train, y_train, X_test, y_test = data_cnn(X_train_full,y_train_full,X_test_full,y_test_full)\n",
        "net = Net()\n",
        "criterion = nn.CrossEntropyLoss()\n",
        "optimizer = optim.Adam(net.parameters(),0.0005)\n",
        "cnn(X_train,y_train,X_test,y_test)"
      ],
      "execution_count": 0,
      "outputs": [
        {
          "output_type": "stream",
          "text": [
            "epoch: 0 train error: 0.6383333333333333 test error: 0.685\n"
          ],
          "name": "stdout"
        }
      ]
    },
    {
      "cell_type": "code",
      "metadata": {
        "id": "tRg10eLLgbQi",
        "colab_type": "code",
        "colab": {}
      },
      "source": [
        ""
      ],
      "execution_count": 0,
      "outputs": []
    }
  ]
}